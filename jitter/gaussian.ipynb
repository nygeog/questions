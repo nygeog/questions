{
 "cells": [
  {
   "cell_type": "code",
   "execution_count": 23,
   "metadata": {
    "collapsed": false
   },
   "outputs": [],
   "source": [
    "import matplotlib.pyplot as plt\n",
    "import numpy as np\n",
    "import pandas as pd\n",
    "plt.style.use('ggplot')\n",
    "%matplotlib inline  "
   ]
  },
  {
   "cell_type": "code",
   "execution_count": 24,
   "metadata": {
    "collapsed": false
   },
   "outputs": [],
   "source": [
    "data = {'lat': [42.0]*100,\n",
    "        'lng': [-73.0]*100}\n",
    "df = pd.DataFrame(data, columns=['lat', 'lng']) "
   ]
  },
  {
   "cell_type": "code",
   "execution_count": 30,
   "metadata": {
    "collapsed": false
   },
   "outputs": [
    {
     "data": {
      "image/png": "[encoded data removed]",
      "text/plain": [
       "<matplotlib.figure.Figure at 0x10cb7d2d0>"
      ]
     },
     "metadata": {},
     "output_type": "display_data"
    }
   ],
   "source": [
    "def gausJitter(inNum):\n",
    "    mu, sigma = inNum, 0.001 # mean and standard deviation\n",
    "    jitter = np.random.normal(mu, sigma)\n",
    "    return jitter #http://gis.stackexchange.com/questions/8650/how-to-measure-the-accuracy-of-latitude-and-longitude\n",
    "       \n",
    "df['x'] = df.lng.map(gausJitter)\n",
    "df['y'] = df.lat.map(gausJitter)  \n",
    "\n",
    "mu = 0\n",
    "sigma = 0.001\n",
    "df['x-stuart']= df['lng'] +  np.random.normal(mu, sigma, size=len(df))\n",
    "df['y-stuart']= df['lat'] +  np.random.normal(mu, sigma, size=len(df))\n",
    "\n",
    "x1 = df['lng']\n",
    "y1 = df['lat']\n",
    "x2 = df['x'] \n",
    "y2 = df['y']\n",
    "x3 = df['x-stuart'] \n",
    "y3 = df['y-stuart'] #print x2, y2\n",
    "\n",
    "plt.scatter(x2, y2, alpha=0.6)\n",
    "plt.scatter(x3, y3, alpha=0.6, color='plum')\n",
    "plt.scatter(x1, y1, color='red', s=100) #alpha=0.009)\n",
    "plt.axis((-72.99,-73.01,41.99,42.01)) #http://stackoverflow.com/questions/8671808/matplotlib-avoiding-overlapping-datapoints-in-a-scatter-dot-beeswarm-plot #http://docs.scipy.org/doc/numpy/reference/generated/numpy.random.normal.html\n",
    "plt.show()"
   ]
  },
  {
   "cell_type": "code",
   "execution_count": null,
   "metadata": {
    "collapsed": true
   },
   "outputs": [],
   "source": []
  }
 ],
 "metadata": {
  "kernelspec": {
   "display_name": "Python 2",
   "language": "python",
   "name": "python2"
  },
  "language_info": {
   "codemirror_mode": {
    "name": "ipython",
    "version": 2
   },
   "file_extension": ".py",
   "mimetype": "text/x-python",
   "name": "python",
   "nbconvert_exporter": "python",
   "pygments_lexer": "ipython2",
   "version": "2.7.10"
  }
 },
 "nbformat": 4,
 "nbformat_minor": 0
}
